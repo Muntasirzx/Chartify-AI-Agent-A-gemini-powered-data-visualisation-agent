{
  "nbformat": 4,
  "nbformat_minor": 0,
  "metadata": {
    "colab": {
      "provenance": []
    },
    "kernelspec": {
      "name": "python3",
      "display_name": "Python 3"
    },
    "language_info": {
      "name": "python"
    }
  },
  "cells": [
    {
      "cell_type": "code",
      "source": [
        "# ==============================================================================\n",
        "# 1. SETUP THE ENVIRONMENT\n",
        "# ==============================================================================\n",
        "print(\"🚀 Starting setup...\")\n",
        "\n",
        "# Install Flask (the web server) and pyngrok (the tunneling tool)\n",
        "!pip install -q flask pyngrok google-generativeai pandas\n",
        "\n",
        "import os\n",
        "import threading\n",
        "import time\n",
        "from pyngrok import ngrok\n",
        "from flask import Flask, request, jsonify, render_template\n",
        "import google.generativeai as genai\n",
        "import pandas as pd\n",
        "import json\n",
        "import io\n",
        "from google.colab import userdata\n",
        "\n",
        "print(\"✅ Setup complete.\")"
      ],
      "metadata": {
        "id": "e49LBDq6djCD",
        "colab": {
          "base_uri": "https://localhost:8080/"
        },
        "outputId": "9664fc5b-6f82-435c-f599-80a2c93465c5"
      },
      "execution_count": 2,
      "outputs": [
        {
          "output_type": "stream",
          "name": "stdout",
          "text": [
            "🚀 Starting setup...\n",
            "✅ Setup complete.\n"
          ]
        }
      ]
    },
    {
      "cell_type": "code",
      "source": [
        "# ==============================================================================\n",
        "# 2. FETCH SECRET KEYS\n",
        "# ==============================================================================\n",
        "print(\"🔑 Fetching API keys from Colab Secrets...\")\n",
        "\n",
        "try:\n",
        "    GOOGLE_API_KEY = userdata.get('GOOGLE_API_KEY')\n",
        "    NGROK_AUTH_TOKEN = userdata.get('NGROK_AUTH_TOKEN')\n",
        "\n",
        "    # Configure the Google AI client once, globally.\n",
        "    genai.configure(api_key=GOOGLE_API_KEY)\n",
        "    print(\"✅ Google API Key configured.\")\n",
        "\n",
        "    # Set the ngrok authtoken.\n",
        "    ngrok.set_auth_token(NGROK_AUTH_TOKEN)\n",
        "    print(\"✅ ngrok Authtoken configured.\")\n",
        "\n",
        "except Exception as e:\n",
        "    print(f\"🛑 ERROR: Could not get secret key. Please make sure GOOGLE_API_KEY and NGROK_AUTH_TOKEN are set correctly in Colab Secrets (View > Secrets).\")\n",
        "    # Stop execution if keys are not found\n",
        "    raise e"
      ],
      "metadata": {
        "colab": {
          "base_uri": "https://localhost:8080/"
        },
        "id": "LuFnSE5zjvIS",
        "outputId": "b71c16b9-a042-465e-9546-037de5162f2f"
      },
      "execution_count": 3,
      "outputs": [
        {
          "output_type": "stream",
          "name": "stdout",
          "text": [
            "🔑 Fetching API keys from Colab Secrets...\n",
            "✅ Google API Key configured.\n",
            "✅ ngrok Authtoken configured.\n"
          ]
        }
      ]
    },
    {
      "cell_type": "code",
      "source": [
        "# ==============================================================================\n",
        "# 3. CREATE THE HTML FILE FOR THE FRONTEND\n",
        "# ==============================================================================\n",
        "print(\"📝 Creating HTML file for the web app interface...\")\n",
        "\n",
        "# Create the 'templates' directory for our HTML file\n",
        "os.makedirs(\"templates\", exist_ok=True)\n",
        "\n",
        "# --- This is your templates/index.html file ---\n",
        "index_html_code = \"\"\"\n",
        "<!DOCTYPE html>\n",
        "<html lang=\"en\">\n",
        "<head>\n",
        "    <meta charset=\"UTF-8\"><meta name=\"viewport\" content=\"width=device-width, initial-scale=1.0\">\n",
        "    <title>AI Data Agent</title>\n",
        "    <script src=\"https://cdn.tailwindcss.com\"></script><script src=\"https://cdn.jsdelivr.net/npm/chart.js\"></script><script src=\"https://cdn.jsdelivr.net/npm/marked/marked.min.js\"></script>\n",
        "    <style> body { font-family: sans-serif; } #result-container table { width: 100%; border-collapse: collapse; } #result-container th, #result-container td { border: 1px solid #ddd; padding: 8px; } </style>\n",
        "</head>\n",
        "<body class=\"bg-gray-100 flex items-center justify-center min-h-screen p-4\">\n",
        "    <div class=\"w-full max-w-3xl bg-white rounded-lg shadow-xl p-8\">\n",
        "        <div class=\"text-center mb-8\"><h1 class=\"text-4xl font-bold text-gray-800\">AI Data Agent</h1><p class=\"text-gray-600 mt-2\">The Real Web App, Launched from Colab</p></div>\n",
        "        <form id=\"analysis-form\" class=\"space-y-6\">\n",
        "            <div><label class=\"block text-lg font-medium text-gray-700\">Step 1: Upload CSV</label><input id=\"csv-file-input\" name=\"file\" type=\"file\" class=\"mt-2 block w-full text-sm text-gray-500 file:mr-4 file:py-2 file:px-4 file:rounded-full file:border-0 file:text-sm file:font-semibold file:bg-violet-50 file:text-violet-700 hover:file:bg-violet-100\" accept=\".csv\" required></div>\n",
        "            <div><label for=\"prompt\" class=\"block text-lg font-medium text-gray-700\">Step 2: Ask a Question</label><textarea id=\"prompt\" name=\"prompt\" rows=\"4\" class=\"mt-2 shadow-sm block w-full sm:text-sm border-gray-300 rounded-md p-3\" placeholder=\"e.g., 'Create a bar chart of sales by region.'\" required></textarea></div>\n",
        "            <div><button id=\"analyze-button\" type=\"submit\" class=\"w-full flex justify-center py-3 px-4 border border-transparent rounded-md shadow-sm text-sm font-medium text-white bg-indigo-600 hover:bg-indigo-700\">Analyze & Visualize</button></div>\n",
        "        </form>\n",
        "        <div id=\"result-section\" class=\"hidden mt-6\"><h2 class=\"text-lg font-medium text-gray-700 mb-2\">Analysis Results</h2><div id=\"loader\" class=\"hidden text-center my-4\"><p class=\"text-gray-600 mt-2\">The AI is thinking...</p></div><div id=\"result-container\" class=\"bg-gray-50 p-4 rounded-md border\"></div><div id=\"chart-container\" class=\"mt-4\"><canvas id=\"myChart\"></canvas></div></div>\n",
        "    </div>\n",
        "    <script>\n",
        "        document.getElementById('analysis-form').addEventListener('submit', async (e) => {\n",
        "            e.preventDefault();\n",
        "            const form = e.target;\n",
        "            const loader = document.getElementById('loader');\n",
        "            const resultSection = document.getElementById('result-section');\n",
        "            const resultContainer = document.getElementById('result-container');\n",
        "            const chartContainer = document.getElementById('chart-container');\n",
        "            let chartInstance = Chart.getChart(\"myChart\");\n",
        "            if(chartInstance) { chartInstance.destroy(); }\n",
        "\n",
        "            loader.classList.remove('hidden');\n",
        "            resultSection.classList.remove('hidden');\n",
        "            resultContainer.innerHTML = '';\n",
        "            chartContainer.style.display = 'none';\n",
        "\n",
        "            try {\n",
        "                const response = await fetch('/analyze', { method: 'POST', body: new FormData(form) });\n",
        "                if (!response.ok) throw new Error((await response.json()).error || 'Server error');\n",
        "                const data = await response.json();\n",
        "                if (data.text_response) resultContainer.innerHTML = marked.parse(data.text_response);\n",
        "                if (data.chart_config) {\n",
        "                    chartContainer.style.display = 'block';\n",
        "                    new Chart(document.getElementById('myChart'), data.chart_config);\n",
        "                }\n",
        "            } catch (error) { resultContainer.innerHTML = `<p class=\"text-red-500\">Error: ${error.message}</p>`; }\n",
        "            finally { loader.classList.add('hidden'); }\n",
        "        });\n",
        "    </script>\n",
        "</body></html>\n",
        "\"\"\"\n",
        "with open(\"templates/index.html\", \"w\") as f:\n",
        "    f.write(index_html_code)\n",
        "\n",
        "print(\"✅ HTML file created.\")"
      ],
      "metadata": {
        "colab": {
          "base_uri": "https://localhost:8080/"
        },
        "id": "4YZd9cH2jz3r",
        "outputId": "a9a9e971-3aac-4b25-dee8-4386d648a0e0"
      },
      "execution_count": 4,
      "outputs": [
        {
          "output_type": "stream",
          "name": "stdout",
          "text": [
            "📝 Creating HTML file for the web app interface...\n",
            "✅ HTML file created.\n"
          ]
        }
      ]
    },
    {
      "cell_type": "code",
      "source": [
        "# ==============================================================================\n",
        "# 4. DEFINE AND LAUNCH THE WEB SERVER\n",
        "# ==============================================================================\n",
        "print(\"🚀 Launching web application...\")\n",
        "\n",
        "# --- CLEANUP PREVIOUS RUNS ---\n",
        "print(\"🧹 Cleaning up any previous server instances...\")\n",
        "ngrok.kill()\n",
        "!fuser -k 5000/tcp > /dev/null 2>&1\n",
        "time.sleep(2)\n",
        "print(\"✅ Cleanup complete.\")\n",
        "\n",
        "# --- DEFINE THE FLASK APP ---\n",
        "app = Flask(__name__, template_folder='templates')\n",
        "\n",
        "@app.route('/')\n",
        "def index():\n",
        "    return render_template('index.html')\n",
        "\n",
        "@app.route('/analyze', methods=['POST'])\n",
        "def analyze():\n",
        "    if 'file' not in request.files: return jsonify({\"error\": \"No file part\"}), 400\n",
        "    file = request.files['file']\n",
        "    user_question = request.form.get('prompt', '')\n",
        "    if file.filename == '' or not user_question: return jsonify({\"error\": \"Missing file or prompt\"}), 400\n",
        "\n",
        "    try:\n",
        "        df = pd.read_csv(io.BytesIO(file.read()))\n",
        "        model = genai.GenerativeModel('gemini-1.5-flash-latest')\n",
        "        data_sample = df.head(100).to_csv(index=False)\n",
        "        headers = \", \".join(df.columns)\n",
        "\n",
        "        prompt = f'''\n",
        "            You are a data scientist. Analyze the CSV data with headers: {headers}.\n",
        "            Data sample: {data_sample}\n",
        "            User's question: \"{user_question}\"\n",
        "            INSTRUCTIONS: Provide a Markdown text answer. If a chart is requested, YOU MUST provide a 'json' code block with a valid Chart.js config.\n",
        "            JSON STRICT MODE: ALL keys and string values MUST be in DOUBLE QUOTES. Do not use trailing commas.\n",
        "        '''\n",
        "        response = model.generate_content(prompt)\n",
        "        raw_text = response.text\n",
        "        text_part = raw_text\n",
        "        chart_json = None\n",
        "        json_match_start = raw_text.find(\"```json\")\n",
        "        if json_match_start != -1:\n",
        "            text_part = raw_text[:json_match_start].strip()\n",
        "            json_match_end = raw_text.rfind(\"```\")\n",
        "            json_block = raw_text[json_match_start + 7 : json_match_end].strip()\n",
        "            chart_json = json.loads(json_block)\n",
        "\n",
        "        return jsonify({\"text_response\": text_part, \"chart_config\": chart_json})\n",
        "    except Exception as e:\n",
        "        print(f\"--- ERROR IN /analyze ROUTE --- \\n{e}\")\n",
        "        return jsonify({\"error\": str(e)}), 500\n",
        "\n",
        "# --- RUN THE APP AND CREATE THE PUBLIC URL ---\n",
        "public_url = ngrok.connect(5000)\n",
        "print(\"🎉 Your web app is live!\")\n",
        "print(f\"👉 Click here to access it: {public_url}\")\n",
        "\n",
        "# Run the Flask app\n",
        "# This will run forever until you manually stop the cell\n",
        "app.run(port=5000)"
      ],
      "metadata": {
        "colab": {
          "base_uri": "https://localhost:8080/",
          "height": 243
        },
        "id": "s7ydUOM2j2Jo",
        "outputId": "3f77792b-e180-44b3-e6b0-8726c45383ad"
      },
      "execution_count": 5,
      "outputs": [
        {
          "output_type": "stream",
          "name": "stdout",
          "text": [
            "🚀 Launching web application...\n",
            "🧹 Cleaning up any previous server instances...\n",
            "✅ Cleanup complete.\n",
            "🎉 Your web app is live!\n",
            "👉 Click here to access it: NgrokTunnel: \"https://77f05f541bbd.ngrok-free.app\" -> \"http://localhost:5000\"\n",
            " * Serving Flask app '__main__'\n",
            " * Debug mode: off\n"
          ]
        },
        {
          "output_type": "stream",
          "name": "stderr",
          "text": [
            "INFO:werkzeug:\u001b[31m\u001b[1mWARNING: This is a development server. Do not use it in a production deployment. Use a production WSGI server instead.\u001b[0m\n",
            " * Running on http://127.0.0.1:5000\n",
            "INFO:werkzeug:\u001b[33mPress CTRL+C to quit\u001b[0m\n",
            "INFO:werkzeug:127.0.0.1 - - [11/Jul/2025 22:18:01] \"GET / HTTP/1.1\" 200 -\n",
            "INFO:werkzeug:127.0.0.1 - - [11/Jul/2025 22:18:03] \"\u001b[33mGET /favicon.ico HTTP/1.1\u001b[0m\" 404 -\n",
            "INFO:werkzeug:127.0.0.1 - - [11/Jul/2025 22:18:46] \"POST /analyze HTTP/1.1\" 200 -\n"
          ]
        }
      ]
    }
  ]
}